{
 "cells": [
  {
   "cell_type": "code",
   "execution_count": 51,
   "id": "7d4d6b82-b711-4505-b7ae-47edd0db74d7",
   "metadata": {},
   "outputs": [],
   "source": [
    "import random\n",
    "suits = ('Hearts','Diamonds','Spades','Clubs')\n",
    "ranks = ('Two','three','Four','Five','Six','Seven','Eight','Nine','Ten')\n",
    "values = {'Two':2,'Three':3,'Four':4,'Five':5,'Six':6,'Seven':7,'Eight':8,'Nine':9,'Ten':10,'Jack':11,'Queen':12,'King':13,'Ace':14}"
   ]
  },
  {
   "cell_type": "code",
   "execution_count": 53,
   "id": "c4e8ae71-b57f-4355-b27c-1b5d1870be94",
   "metadata": {},
   "outputs": [],
   "source": [
    "class Card:\n",
    "\n",
    "    def __init__(self,suit,rank):\n",
    "        self.suit = suit\n",
    "        self.rank = rank\n",
    "\n",
    "    def __str__(self):\n",
    "        return self.rank + \"of\" + self.suit"
   ]
  },
  {
   "cell_type": "code",
   "execution_count": 55,
   "id": "6e959c34-9260-42ef-8323-160ddc9554a2",
   "metadata": {},
   "outputs": [],
   "source": [
    "two_hearts = Card(\"Heart\",\"Two\")"
   ]
  },
  {
   "cell_type": "code",
   "execution_count": 57,
   "id": "b1c11dd3-a67a-42b0-b9bb-6931d3ef0d6e",
   "metadata": {},
   "outputs": [
    {
     "data": {
      "text/plain": [
       "<__main__.Card at 0x2d1ec5ef680>"
      ]
     },
     "execution_count": 57,
     "metadata": {},
     "output_type": "execute_result"
    }
   ],
   "source": [
    "two_hearts"
   ]
  },
  {
   "cell_type": "code",
   "execution_count": 59,
   "id": "a07b5a6c-56c3-4234-816b-a4ea1a0838ee",
   "metadata": {},
   "outputs": [
    {
     "name": "stdout",
     "output_type": "stream",
     "text": [
      "TwoofHeart\n"
     ]
    }
   ],
   "source": [
    "print(two_hearts)"
   ]
  },
  {
   "cell_type": "code",
   "execution_count": 61,
   "id": "1fc66c68-7f6b-4dc4-8610-2bba00b2adbd",
   "metadata": {},
   "outputs": [
    {
     "data": {
      "text/plain": [
       "'Heart'"
      ]
     },
     "execution_count": 61,
     "metadata": {},
     "output_type": "execute_result"
    }
   ],
   "source": [
    "two_hearts.suit"
   ]
  },
  {
   "cell_type": "code",
   "execution_count": 63,
   "id": "6fef7362-222b-4dac-8476-383bf35ce17f",
   "metadata": {},
   "outputs": [
    {
     "data": {
      "text/plain": [
       "'Two'"
      ]
     },
     "execution_count": 63,
     "metadata": {},
     "output_type": "execute_result"
    }
   ],
   "source": [
    "two_hearts.rank"
   ]
  },
  {
   "cell_type": "code",
   "execution_count": 65,
   "id": "fc1a2432-806d-4239-b276-df9e4ee72cbb",
   "metadata": {},
   "outputs": [],
   "source": [
    "values = {'Two':2,'Three':3,'Four':4,'Five':5,'Six':6,'Seven':7,'Eight':8,'Nine':9,'Ten':10,'Zack':11,'Queen':12,'King':13,'Ace':14}"
   ]
  },
  {
   "cell_type": "code",
   "execution_count": 67,
   "id": "374fe0b5-ca0f-40e0-ba54-13503ae59467",
   "metadata": {},
   "outputs": [
    {
     "data": {
      "text/plain": [
       "2"
      ]
     },
     "execution_count": 67,
     "metadata": {},
     "output_type": "execute_result"
    }
   ],
   "source": [
    "values[two_hearts.rank]"
   ]
  },
  {
   "cell_type": "code",
   "execution_count": 69,
   "id": "5be32a67-f58a-4753-8eab-266f96f83cd2",
   "metadata": {},
   "outputs": [],
   "source": [
    "three_of_clubs = Card(\"Clubs\",\"Three\")"
   ]
  },
  {
   "cell_type": "code",
   "execution_count": 71,
   "id": "43763168-9a70-4f2d-91a2-8eb99b758212",
   "metadata": {},
   "outputs": [
    {
     "data": {
      "text/plain": [
       "'Three'"
      ]
     },
     "execution_count": 71,
     "metadata": {},
     "output_type": "execute_result"
    }
   ],
   "source": [
    "three_of_clubs.rank"
   ]
  },
  {
   "cell_type": "code",
   "execution_count": 73,
   "id": "f2064bd6-ba7a-4230-88e7-c233a0d032d3",
   "metadata": {},
   "outputs": [
    {
     "data": {
      "text/plain": [
       "3"
      ]
     },
     "execution_count": 73,
     "metadata": {},
     "output_type": "execute_result"
    }
   ],
   "source": [
    "values[three_of_clubs.rank]"
   ]
  },
  {
   "cell_type": "code",
   "execution_count": 75,
   "id": "6cc9ea2c-38b0-45da-8f3b-296df16e800f",
   "metadata": {},
   "outputs": [
    {
     "data": {
      "text/plain": [
       "True"
      ]
     },
     "execution_count": 75,
     "metadata": {},
     "output_type": "execute_result"
    }
   ],
   "source": [
    "values[two_hearts.rank] < values[three_of_clubs.rank]"
   ]
  },
  {
   "cell_type": "code",
   "execution_count": 143,
   "id": "4e8fb3b3-b401-403c-8846-554a60c4ce47",
   "metadata": {},
   "outputs": [],
   "source": [
    "class Deck:\n",
    "\n",
    "    def __init__(self):\n",
    "\n",
    "        self.all_cards = []\n",
    "\n",
    "        for suit in  suits:\n",
    "            for rank in ranks:\n",
    "\n",
    "                created_card = Card(suit,rank)\n",
    "\n",
    "                self.all_cards.append(created_card)\n",
    "    \n",
    "    def shuffle(self):\n",
    "        random.shuffle(self.all_cards)\n",
    "\n",
    "    def deal_one(self):\n",
    "        return self.all_cards.pop()\n",
    "        "
   ]
  },
  {
   "cell_type": "code",
   "execution_count": 109,
   "id": "f2163c7f-571f-441e-ba7d-6167dc70cc62",
   "metadata": {},
   "outputs": [],
   "source": [
    "new_deck=Deck()"
   ]
  },
  {
   "cell_type": "code",
   "execution_count": 111,
   "id": "203999a2-ce43-4db6-892c-026e4711b37d",
   "metadata": {},
   "outputs": [],
   "source": [
    "first_card = new_deck.all_cards[0]"
   ]
  },
  {
   "cell_type": "code",
   "execution_count": 113,
   "id": "60f642f4-1951-469d-8b69-d179a1f36da4",
   "metadata": {},
   "outputs": [
    {
     "name": "stdout",
     "output_type": "stream",
     "text": [
      "TwoofHearts\n"
     ]
    }
   ],
   "source": [
    "print(first_card)"
   ]
  },
  {
   "cell_type": "code",
   "execution_count": 115,
   "id": "104e3b52-e09f-4814-9a25-cd3adc03636c",
   "metadata": {},
   "outputs": [],
   "source": [
    "bottom_card = new_deck.all_cards[-1]"
   ]
  },
  {
   "cell_type": "code",
   "execution_count": 117,
   "id": "644c0926-f1eb-4228-b66c-6eaa1fcb4b2b",
   "metadata": {},
   "outputs": [
    {
     "name": "stdout",
     "output_type": "stream",
     "text": [
      "TenofClubs\n"
     ]
    }
   ],
   "source": [
    "print(bottom_card)"
   ]
  },
  {
   "cell_type": "code",
   "execution_count": 119,
   "id": "f66c187b-1385-4954-a9f0-dbd914220761",
   "metadata": {},
   "outputs": [
    {
     "name": "stdout",
     "output_type": "stream",
     "text": [
      "TwoofHearts\n",
      "threeofHearts\n",
      "FourofHearts\n",
      "FiveofHearts\n",
      "SixofHearts\n",
      "SevenofHearts\n",
      "EightofHearts\n",
      "NineofHearts\n",
      "TenofHearts\n",
      "TwoofDiamonds\n",
      "threeofDiamonds\n",
      "FourofDiamonds\n",
      "FiveofDiamonds\n",
      "SixofDiamonds\n",
      "SevenofDiamonds\n",
      "EightofDiamonds\n",
      "NineofDiamonds\n",
      "TenofDiamonds\n",
      "TwoofSpades\n",
      "threeofSpades\n",
      "FourofSpades\n",
      "FiveofSpades\n",
      "SixofSpades\n",
      "SevenofSpades\n",
      "EightofSpades\n",
      "NineofSpades\n",
      "TenofSpades\n",
      "TwoofClubs\n",
      "threeofClubs\n",
      "FourofClubs\n",
      "FiveofClubs\n",
      "SixofClubs\n",
      "SevenofClubs\n",
      "EightofClubs\n",
      "NineofClubs\n",
      "TenofClubs\n"
     ]
    }
   ],
   "source": [
    "for card_object in new_deck.all_cards:\n",
    "    print(card_object)"
   ]
  },
  {
   "cell_type": "code",
   "execution_count": 121,
   "id": "daf020f2-7905-42ef-ab7d-1b78a57b6f24",
   "metadata": {},
   "outputs": [],
   "source": [
    "mylist=[1,2,3,4,5,6]"
   ]
  },
  {
   "cell_type": "code",
   "execution_count": 123,
   "id": "20c4e64f-aad7-4a40-8ad9-e32ec08d43cb",
   "metadata": {},
   "outputs": [],
   "source": [
    "random.shuffle(mylist)"
   ]
  },
  {
   "cell_type": "code",
   "execution_count": 125,
   "id": "4eaed27b-4cc0-499c-bacf-10d622980e0a",
   "metadata": {},
   "outputs": [
    {
     "data": {
      "text/plain": [
       "[6, 3, 1, 5, 2, 4]"
      ]
     },
     "execution_count": 125,
     "metadata": {},
     "output_type": "execute_result"
    }
   ],
   "source": [
    "mylist"
   ]
  },
  {
   "cell_type": "code",
   "execution_count": 139,
   "id": "badd592e-e8e5-41d7-952b-fb11bdb0eabe",
   "metadata": {},
   "outputs": [],
   "source": [
    "new_deck.shuffle()"
   ]
  },
  {
   "cell_type": "code",
   "execution_count": 141,
   "id": "6a40680d-8e86-41a3-87d0-7f6f25319527",
   "metadata": {},
   "outputs": [
    {
     "name": "stdout",
     "output_type": "stream",
     "text": [
      "SevenofHearts\n"
     ]
    }
   ],
   "source": [
    "print(new_deck.all_cards[-1])"
   ]
  },
  {
   "cell_type": "code",
   "execution_count": null,
   "id": "5b73dae5-cefc-4f00-9672-7a30dc7cc231",
   "metadata": {},
   "outputs": [],
   "source": [
    "cards.append(\"W\")"
   ]
  },
  {
   "cell_type": "code",
   "execution_count": 155,
   "id": "439fa467-f415-4292-8cc8-935246713343",
   "metadata": {},
   "outputs": [],
   "source": [
    "cards = [\"B\",\"C\"]\n",
    "new = [\"X\",\"Z\"]"
   ]
  },
  {
   "cell_type": "code",
   "execution_count": 157,
   "id": "ea057ee3-6578-40ca-9584-464c400c14ec",
   "metadata": {},
   "outputs": [],
   "source": [
    "cards.extend(new)"
   ]
  },
  {
   "cell_type": "code",
   "execution_count": 159,
   "id": "0ae5fa18-e102-4066-85f7-da5a4edc04b0",
   "metadata": {},
   "outputs": [
    {
     "data": {
      "text/plain": [
       "['B', 'C', 'X', 'Z']"
      ]
     },
     "execution_count": 159,
     "metadata": {},
     "output_type": "execute_result"
    }
   ],
   "source": [
    "cards"
   ]
  },
  {
   "cell_type": "code",
   "execution_count": 161,
   "id": "b1d598bd-3554-4f10-b439-2bb7dbd7d4ff",
   "metadata": {},
   "outputs": [],
   "source": [
    "cards = [\"B\",\"C\",\"X\",\"Z\"]"
   ]
  },
  {
   "cell_type": "code",
   "execution_count": 163,
   "id": "c1071c4e-3230-4857-9dc7-0b6616bb092b",
   "metadata": {},
   "outputs": [],
   "source": [
    "cards.extend(new)"
   ]
  },
  {
   "cell_type": "code",
   "execution_count": 165,
   "id": "8d539db7-1dc8-40fc-a9fb-48a90b9c5fa6",
   "metadata": {},
   "outputs": [],
   "source": [
    "cards = [\"B\",\"C\",[\"X\",\"Z\"]]"
   ]
  },
  {
   "cell_type": "code",
   "execution_count": 167,
   "id": "34453400-fd3d-470e-98d7-59debeb6877f",
   "metadata": {},
   "outputs": [],
   "source": [
    "cards.append(new)"
   ]
  },
  {
   "cell_type": "code",
   "execution_count": 225,
   "id": "22b2ad9e-3eb0-4b9d-9e05-0951808eb538",
   "metadata": {},
   "outputs": [],
   "source": [
    "class player:\n",
    "\n",
    "    def __init__(self,name):\n",
    "        self.name = name\n",
    "        self.all_cards = []\n",
    "    def remove_one(self):\n",
    "        return self.all_cards.pop(0)\n",
    "    def add_cards(self,new_cards):\n",
    "        if type(new_cards) == type([]):\n",
    "            # List of multiple\n",
    "            self.all_cards.extend(new_cards)\n",
    "        else: \n",
    "            self.all_cards.append(new_cards)\n",
    "\n",
    "    def __str__(self):\n",
    "        return f'Player {self.name} has {len(self.all_cards)} cards.'"
   ]
  },
  {
   "cell_type": "code",
   "execution_count": 263,
   "id": "8480bba8-273d-402a-9e1c-8282822fd982",
   "metadata": {},
   "outputs": [],
   "source": [
    "new_player = player(\"Jose\")"
   ]
  },
  {
   "cell_type": "code",
   "execution_count": 265,
   "id": "3e2995d9-02d2-474c-af0e-94c23379afb1",
   "metadata": {},
   "outputs": [
    {
     "name": "stdout",
     "output_type": "stream",
     "text": [
      "Player Jose has 0 cards.\n"
     ]
    }
   ],
   "source": [
    "print(new_player)"
   ]
  },
  {
   "cell_type": "code",
   "execution_count": 273,
   "id": "1ba04afd-61a5-4ed1-b0a8-6114d871eb77",
   "metadata": {},
   "outputs": [],
   "source": [
    "new_player.add_cards(two_hearts)"
   ]
  },
  {
   "cell_type": "code",
   "execution_count": 275,
   "id": "71ad0c66-3a21-4cd2-a790-16f48fc8500a",
   "metadata": {},
   "outputs": [
    {
     "name": "stdout",
     "output_type": "stream",
     "text": [
      "Player Jose has 1 cards.\n"
     ]
    }
   ],
   "source": [
    "print(new_player)"
   ]
  },
  {
   "cell_type": "code",
   "execution_count": 277,
   "id": "829b646d-bfad-4cea-901b-605ab0f91fd2",
   "metadata": {},
   "outputs": [
    {
     "name": "stdout",
     "output_type": "stream",
     "text": [
      "TwoofHeart\n"
     ]
    }
   ],
   "source": [
    "print(new_player.all_cards[0])"
   ]
  },
  {
   "cell_type": "code",
   "execution_count": 279,
   "id": "5e7db3da-e8bc-4188-aeed-c502ff3e9225",
   "metadata": {},
   "outputs": [
    {
     "ename": "SyntaxError",
     "evalue": "incomplete input (2639448687.py, line 1)",
     "output_type": "error",
     "traceback": [
      "\u001b[1;36m  Cell \u001b[1;32mIn[279], line 1\u001b[1;36m\u001b[0m\n\u001b[1;33m    new_player.add_cards([]\u001b[0m\n\u001b[1;37m                           ^\u001b[0m\n\u001b[1;31mSyntaxError\u001b[0m\u001b[1;31m:\u001b[0m incomplete input\n"
     ]
    }
   ],
   "source": [
    "my_card = new_player.add_cards([])"
   ]
  },
  {
   "cell_type": "code",
   "execution_count": null,
   "id": "c814b27f-e770-4b80-9922-6cdde0150936",
   "metadata": {},
   "outputs": [],
   "source": []
  },
  {
   "cell_type": "code",
   "execution_count": null,
   "id": "8ef48f48-94d8-4f5c-8b3a-e9efd9faf801",
   "metadata": {},
   "outputs": [],
   "source": []
  },
  {
   "cell_type": "code",
   "execution_count": null,
   "id": "2724778c-ad2e-4f13-8308-e5db91944584",
   "metadata": {},
   "outputs": [],
   "source": []
  },
  {
   "cell_type": "code",
   "execution_count": null,
   "id": "d58e763a-8a56-46d5-bc1d-378b36ed5676",
   "metadata": {},
   "outputs": [],
   "source": []
  },
  {
   "cell_type": "code",
   "execution_count": null,
   "id": "061be1a4-d82f-4b2a-b839-dfee976f354a",
   "metadata": {},
   "outputs": [],
   "source": []
  },
  {
   "cell_type": "code",
   "execution_count": null,
   "id": "5dbed954-3f04-49e2-af05-bdd439e73339",
   "metadata": {},
   "outputs": [],
   "source": []
  },
  {
   "cell_type": "code",
   "execution_count": null,
   "id": "a9a24ba3-3b7b-4892-a0a4-6be1febcea56",
   "metadata": {},
   "outputs": [],
   "source": []
  },
  {
   "cell_type": "code",
   "execution_count": 329,
   "id": "270a80a1-aaa2-4146-838a-8cb5e7c6df38",
   "metadata": {},
   "outputs": [],
   "source": [
    "#Game setup\n",
    "player_one = player(\"One\")\n",
    "player_two = player(\"Two\")\n",
    "\n",
    "new_deck = Deck()\n",
    "new_deck.shuffle()\n",
    "\n",
    "for x in range(26):\n",
    "    player_one.add_cards(new_deck.deal_one())"
   ]
  },
  {
   "cell_type": "code",
   "execution_count": 331,
   "id": "854f9632-fd42-4f48-bd4a-04318bf7f27e",
   "metadata": {},
   "outputs": [
    {
     "name": "stdout",
     "output_type": "stream",
     "text": [
      "NineofSpades\n"
     ]
    }
   ],
   "source": [
    "print(player_one.all_cards[0])"
   ]
  },
  {
   "cell_type": "code",
   "execution_count": 333,
   "id": "7453262e-472c-46f4-89c4-38854d935356",
   "metadata": {},
   "outputs": [
    {
     "data": {
      "text/plain": [
       "26"
      ]
     },
     "execution_count": 333,
     "metadata": {},
     "output_type": "execute_result"
    }
   ],
   "source": [
    "len(player_one.all_cards)"
   ]
  },
  {
   "cell_type": "code",
   "execution_count": 335,
   "id": "431a74fc-fc53-4285-8d65-2dd4b71d1f17",
   "metadata": {},
   "outputs": [],
   "source": [
    "game_on = True"
   ]
  },
  {
   "cell_type": "code",
   "execution_count": 341,
   "id": "8a590aec-9d12-4d71-b925-6bbe3b2a7afe",
   "metadata": {},
   "outputs": [],
   "source": [
    "round_num = 0\n",
    "\n",
    "while game_on:\n",
    "\n",
    "    round_num += 1\n",
    "    print(f\"Round {round_num}\")\n",
    "\n",
    "    if len(player_one.all_cards) == 0:\n",
    "        print('Player One, out of cards! Player Two Wins!')\n",
    "        game_on = False\n",
    "        break\n",
    "\n",
    "    if len(player_two.all_cards) == 0:\n",
    "        print('Player Two, out of cards! Player One Wins!')\n",
    "        game_on = False\n",
    "        break\n",
    "\n",
    "    #START A NEW ROUND\n",
    "    player_one_cards = []\n",
    "    player_one_cards.append(player_one.remove_one())\n",
    "\n",
    "    player_two_cards = []\n",
    "    player_two_cards.append(player_two.remove_one())\n",
    "\n",
    "    at_war = True\n",
    "\n",
    "    while at_war:\n",
    "\n",
    "        if player_one_cards[-1].value > player_two_cards[-1].value:\n",
    "\n",
    "            player_one.add_cards(player_one_cards)\n",
    "            player_two.add_cards(player_two_cards)\n",
    "\n",
    "            at_war = False\n",
    "\n",
    "        elif player_one_cards[-1].value < player_two_cards[-1].value:\n",
    "\n",
    "            player_two.add_cards(player_one_cards)\n",
    "            player_one.add_cards(player_two_cards)\n",
    "\n",
    "            at_war = False\n",
    "\n",
    "        else:\n",
    "            print('WAR!')\n",
    "\n",
    "            if len(player_one.all_cards) < 3:\n",
    "                print(\"Player one unable to declare war\")\n",
    "                print(\"PLAYER TWO WINS!\")\n",
    "                game_on = False\n",
    "                break\n",
    "                \n",
    "            else\n",
    "                \n",
    "                "
   ]
  },
  {
   "cell_type": "code",
   "execution_count": null,
   "id": "2043b650-6eb7-4484-84cd-556acc869de8",
   "metadata": {},
   "outputs": [],
   "source": []
  }
 ],
 "metadata": {
  "kernelspec": {
   "display_name": "Python 3 (ipykernel)",
   "language": "python",
   "name": "python3"
  },
  "language_info": {
   "codemirror_mode": {
    "name": "ipython",
    "version": 3
   },
   "file_extension": ".py",
   "mimetype": "text/x-python",
   "name": "python",
   "nbconvert_exporter": "python",
   "pygments_lexer": "ipython3",
   "version": "3.12.4"
  }
 },
 "nbformat": 4,
 "nbformat_minor": 5
}
